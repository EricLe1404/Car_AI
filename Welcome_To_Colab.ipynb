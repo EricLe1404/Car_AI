{
  "cells": [
    {
      "cell_type": "markdown",
      "metadata": {
        "id": "view-in-github",
        "colab_type": "text"
      },
      "source": [
        "<a href=\"https://colab.research.google.com/github/EricLe1404/Car_AI/blob/main/Welcome_To_Colab.ipynb\" target=\"_parent\"><img src=\"https://colab.research.google.com/assets/colab-badge.svg\" alt=\"Open In Colab\"/></a>"
      ]
    },
    {
      "cell_type": "code",
      "source": [
        "# Function from week4\n",
        "def get_product_price(product_name):\n",
        "\n",
        "    products = {\n",
        "        \"Croissant\": 3.50,\n",
        "        \"Muffin\": 2.75,\n",
        "        \"Scone\": 4.00,\n",
        "        \"Bagel\": 2.20,\n",
        "        \"Donut\": 1.80,\n",
        "        \"Apple Pie\": 5.50,\n",
        "        \"Cherry Tart\": 4.75,\n",
        "        \"Baguette\": 3.20,\n",
        "        \"Cinnamon Roll\": 3.80,\n",
        "        \"Brownie\": 2.90,\n",
        "        \"Cupcake\": 3.10,\n",
        "        \"Cheesecake Slice\": 5.00\n",
        "    }\n",
        "    # Dictionary from week 3\n",
        "    price = products.get(product_name)\n",
        "# If-elst statement from week 8\n",
        "    if price is None:\n",
        "        return \"Product not found\"\n",
        "    else:\n",
        "        return price\n"
      ],
      "metadata": {
        "id": "T-Xz4r0Xe0Fp"
      },
      "execution_count": 1,
      "outputs": []
    },
    {
      "cell_type": "code",
      "source": [
        "# Test cases for get_product_price()\n",
        "\n",
        "print(get_product_price(\"Croissant\"))      # Expected: 3.50\n",
        "print(get_product_price(\"Donut\"))          # Expected: 1.80\n",
        "print(get_product_price(\"Cheesecake Slice\"))  # Expected: 5.00\n",
        "print(get_product_price(\"Strawberry Cake\"))   # Expected: Product not found\n",
        "print(get_product_price(\"Bagel\"))          # Expected: 2.20\n"
      ],
      "metadata": {
        "id": "0qWPmSOEpuF8",
        "outputId": "4d4c2a6c-e97e-4ddb-873c-731b9d9d70c2",
        "colab": {
          "base_uri": "https://localhost:8080/"
        }
      },
      "execution_count": 2,
      "outputs": [
        {
          "output_type": "stream",
          "name": "stdout",
          "text": [
            "3.5\n",
            "1.8\n",
            "5.0\n",
            "Product not found\n",
            "2.2\n"
          ]
        }
      ]
    }
  ],
  "metadata": {
    "colab": {
      "name": "Welcome To Colab",
      "provenance": [],
      "include_colab_link": true
    },
    "kernelspec": {
      "display_name": "Python 3",
      "name": "python3"
    }
  },
  "nbformat": 4,
  "nbformat_minor": 0
}