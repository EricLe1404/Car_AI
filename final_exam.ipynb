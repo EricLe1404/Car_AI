{
  "cells": [
    {
      "cell_type": "markdown",
      "metadata": {
        "id": "view-in-github",
        "colab_type": "text"
      },
      "source": [
        "<a href=\"https://colab.research.google.com/github/EricLe1404/Car_AI/blob/main/final_exam.ipynb\" target=\"_parent\"><img src=\"https://colab.research.google.com/assets/colab-badge.svg\" alt=\"Open In Colab\"/></a>"
      ]
    },
    {
      "cell_type": "markdown",
      "source": [],
      "metadata": {
        "id": "L047AjtWsRE3"
      }
    },
    {
      "cell_type": "markdown",
      "source": [
        "**Section 1:**"
      ],
      "metadata": {
        "id": "jgnEMS4TvQqf"
      }
    },
    {
      "cell_type": "markdown",
      "source": [
        "**FUNCTION 1**"
      ],
      "metadata": {
        "id": "8pIS0uFVsMUa"
      }
    },
    {
      "cell_type": "markdown",
      "source": [],
      "metadata": {
        "id": "2zo3VXbi7hNi"
      }
    },
    {
      "cell_type": "code",
      "source": [
        "# Function from week4\n",
        "def get_product_price(product_name):\n",
        "\n",
        "    products = {\n",
        "        \"Croissant\": 3.50,\n",
        "        \"Muffin\": 2.75,\n",
        "        \"Scone\": 4.00,\n",
        "        \"Bagel\": 2.20,\n",
        "        \"Donut\": 1.80,\n",
        "        \"Apple Pie\": 5.50,\n",
        "        \"Cherry Tart\": 4.75,\n",
        "        \"Baguette\": 3.20,\n",
        "        \"Cinnamon Roll\": 3.80,\n",
        "        \"Brownie\": 2.90,\n",
        "        \"Cupcake\": 3.10,\n",
        "        \"Cheesecake Slice\": 5.00\n",
        "    }\n",
        "    # Dictionary from week 3\n",
        "    price = products.get(product_name)\n",
        "# If-elst statement from week 8\n",
        "    if price is None:\n",
        "        return \"Product not found\"\n",
        "    else:\n",
        "        return price\n",
        "# I create the fuction with the dictionary store the item name and price which I have learnt in Week3 and Week4. Then I used the if else statement from week 8\n",
        "# to make sure the dictionary is validation if the product not exist"
      ],
      "metadata": {
        "id": "T-Xz4r0Xe0Fp"
      },
      "execution_count": 1,
      "outputs": []
    },
    {
      "cell_type": "code",
      "source": [
        "# Test cases for get_product_price()\n",
        "\n",
        "print(get_product_price(\"Croissant\"))      # Expected: 3.50\n",
        "print(get_product_price(\"Donut\"))          # Expected: 1.80\n",
        "print(get_product_price(\"Cheesecake Slice\"))  # Expected: 5.00\n",
        "print(get_product_price(\"Strawberry Cake\"))   # Expected: Product not found\n",
        "print(get_product_price(\"Bagel\"))          # Expected: 2.20\n"
      ],
      "metadata": {
        "colab": {
          "base_uri": "https://localhost:8080/"
        },
        "id": "0qWPmSOEpuF8",
        "outputId": "4d4c2a6c-e97e-4ddb-873c-731b9d9d70c2"
      },
      "execution_count": 2,
      "outputs": [
        {
          "output_type": "stream",
          "name": "stdout",
          "text": [
            "3.5\n",
            "1.8\n",
            "5.0\n",
            "Product not found\n",
            "2.2\n"
          ]
        }
      ]
    },
    {
      "cell_type": "markdown",
      "source": [
        "**FUNCTION 2**"
      ],
      "metadata": {
        "id": "3H_wjCt5r5s0"
      }
    },
    {
      "cell_type": "code",
      "source": [
        "def add_order_item(order_list, product_name, quantity):\n",
        "    # 🗓️ Week 8 - Conditional statement to validate quantity\n",
        "    if quantity <= 0:\n",
        "        print(\"Error: Quantity must be a positive number.\")  # 🗓️ Week 8 - Print error if condition is not met\n",
        "        return\n",
        "\n",
        "    # 🗓️ Week 4 - Function calling another function (get_product_price)\n",
        "    price = get_product_price(product_name)\n",
        "\n",
        "    # 🗓️ Week 8 - Conditional check for invalid product\n",
        "    if price == \"Product not found\":\n",
        "        print(\"Error: Product not found.\")  # 🗓️ Week 8 - Print error for invalid product\n",
        "        return\n",
        "\n",
        "    # 🗓️ Week 3 - Creating a dictionary to store item details\n",
        "    item = {\n",
        "        \"product\": product_name,\n",
        "        \"qty\": quantity,\n",
        "        \"price\": price\n",
        "    }\n",
        "\n",
        "    # 🗓️ Week 3 - Adding the dictionary to a list\n",
        "    order_list.append(item)\n",
        "\n",
        "    # 🗓️ Week 8 - Print confirmation after successful addition\n",
        "    print(f\"Added {quantity} x {product_name} to the order.\")\n",
        "# I create the function to add the quantity to the dictionary also call the function price to make sure it sync and valid."
      ],
      "metadata": {
        "id": "w5Sz0nRMqQ6c"
      },
      "execution_count": 3,
      "outputs": []
    },
    {
      "cell_type": "code",
      "source": [
        "# Create an empty order list\n",
        "order = []\n",
        "\n",
        "# Test 1: Valid product and valid quantity\n",
        "add_order_item(order, \"Croissant\", 2)\n",
        "\n",
        "# Test 2: Valid product, invalid quantity (0)\n",
        "add_order_item(order, \"Muffin\", 0)\n",
        "\n",
        "# Test 3: Invalid product name\n",
        "add_order_item(order, \"Pizza\", 1)\n",
        "\n",
        "# Test 4: Valid product and valid quantity\n",
        "add_order_item(order, \"Donut\", 3)\n",
        "\n",
        "# Print the final order list to verify what was added\n",
        "print(\"\\nFinal Order List:\")\n",
        "for item in order:\n",
        "    print(item)\n"
      ],
      "metadata": {
        "colab": {
          "base_uri": "https://localhost:8080/"
        },
        "id": "SYaYb-7TrWeb",
        "outputId": "531f83c7-a01b-4763-9a61-f45072ddbe57"
      },
      "execution_count": 4,
      "outputs": [
        {
          "output_type": "stream",
          "name": "stdout",
          "text": [
            "Added 2 x Croissant to the order.\n",
            "Error: Quantity must be a positive number.\n",
            "Error: Product not found.\n",
            "Added 3 x Donut to the order.\n",
            "\n",
            "Final Order List:\n",
            "{'product': 'Croissant', 'qty': 2, 'price': 3.5}\n",
            "{'product': 'Donut', 'qty': 3, 'price': 1.8}\n"
          ]
        }
      ]
    },
    {
      "cell_type": "markdown",
      "source": [
        "**FUNCTION 3**"
      ],
      "metadata": {
        "id": "GLQh_FvxsYh2"
      }
    },
    {
      "cell_type": "code",
      "source": [
        "def calculate_order_total(order_list):\n",
        "    # 🗓️ Week 8 - Initialize total with 0 before loop\n",
        "    grand_total = 0\n",
        "\n",
        "    print(\"\\nReceipt:\")\n",
        "\n",
        "    # 🗓️ Week 8 - Using a for loop to go through list of dictionaries\n",
        "    for item in order_list:\n",
        "        # 🗓️ Week 3 - Accessing dictionary values\n",
        "        product = item[\"product\"]\n",
        "        quantity = item[\"qty\"]\n",
        "        price = item[\"price\"]\n",
        "\n",
        "        # 🗓️ Week 8 - Basic math operation\n",
        "        subtotal = quantity * price\n",
        "\n",
        "        # 🗓️ Week 8 - Print each line item\n",
        "        print(f\"{product} x{quantity} @ ${price:.2f} = ${subtotal:.2f}\")\n",
        "\n",
        "        # 🗓️ Week 8 - Add subtotal to grand total\n",
        "        grand_total += subtotal\n",
        "\n",
        "    # 🗓️ Week 8 - Final output\n",
        "    print(f\"\\nGrand Total: ${grand_total:.2f}\")\n",
        "# I create the loop fuction to help me calculate the cost for each item also the grand total of all the item was mentioned."
      ],
      "metadata": {
        "id": "W_vU73tHsdHL"
      },
      "execution_count": 5,
      "outputs": []
    },
    {
      "cell_type": "code",
      "source": [
        "# Sample order list (assumes you've used add_order_item() already)\n",
        "order = [\n",
        "    {\"product\": \"Croissant\", \"qty\": 2, \"price\": 3.50},\n",
        "    {\"product\": \"Donut\", \"qty\": 3, \"price\": 1.80}\n",
        "]\n",
        "\n",
        "# Call the function to calculate and display the total\n",
        "calculate_order_total(order)\n"
      ],
      "metadata": {
        "colab": {
          "base_uri": "https://localhost:8080/"
        },
        "id": "Zkk2q7KGs1BO",
        "outputId": "c22090d0-884d-4842-8d2f-ccc6f2602c2b"
      },
      "execution_count": 6,
      "outputs": [
        {
          "output_type": "stream",
          "name": "stdout",
          "text": [
            "\n",
            "Receipt:\n",
            "Croissant x2 @ $3.50 = $7.00\n",
            "Donut x3 @ $1.80 = $5.40\n",
            "\n",
            "Grand Total: $12.40\n"
          ]
        }
      ]
    },
    {
      "cell_type": "markdown",
      "source": [
        "**Add all together**"
      ],
      "metadata": {
        "id": "FN3rA2EQvYrF"
      }
    },
    {
      "cell_type": "code",
      "source": [],
      "metadata": {
        "id": "GzsrK3W1vYDe"
      },
      "execution_count": null,
      "outputs": []
    },
    {
      "cell_type": "code",
      "source": [
        "# Function from week4\n",
        "def get_product_price(product_name):\n",
        "\n",
        "    products = {\n",
        "        \"Croissant\": 3.50,\n",
        "        \"Muffin\": 2.75,\n",
        "        \"Scone\": 4.00,\n",
        "        \"Bagel\": 2.20,\n",
        "        \"Donut\": 1.80,\n",
        "        \"Apple Pie\": 5.50,\n",
        "        \"Cherry Tart\": 4.75,\n",
        "        \"Baguette\": 3.20,\n",
        "        \"Cinnamon Roll\": 3.80,\n",
        "        \"Brownie\": 2.90,\n",
        "        \"Cupcake\": 3.10,\n",
        "        \"Cheesecake Slice\": 5.00\n",
        "    }\n",
        "    # Dictionary from week 3\n",
        "    price = products.get(product_name)\n",
        "# If-elst statement from week 8\n",
        "    if price is None:\n",
        "        return \"Product not found\"\n",
        "    else:\n",
        "        return price\n",
        "# I create the fuction with the dictionary store the item name and price which I have learnt in Week3 and Week4. Then I used the if else statement from week 8\n",
        "# to make sure the dictionary is validation if the product not exist\n",
        "\n",
        "def add_order_item(order_list, product_name, quantity):\n",
        "    # 🗓️ Week 8 - Conditional statement to validate quantity\n",
        "    if quantity <= 0:\n",
        "        print(\"Error: Quantity must be a positive number.\")  # 🗓️ Week 8 - Print error if condition is not met\n",
        "        return\n",
        "\n",
        "    # 🗓️ Week 4 - Function calling another function (get_product_price)\n",
        "    price = get_product_price(product_name)\n",
        "\n",
        "    # 🗓️ Week 8 - Conditional check for invalid product\n",
        "    if price == \"Product not found\":\n",
        "        print(\"Error: Product not found.\")  # 🗓️ Week 8 - Print error for invalid product\n",
        "        return\n",
        "\n",
        "    # 🗓️ Week 3 - Creating a dictionary to store item details\n",
        "    item = {\n",
        "        \"product\": product_name,\n",
        "        \"qty\": quantity,\n",
        "        \"price\": price\n",
        "    }\n",
        "\n",
        "    # 🗓️ Week 3 - Adding the dictionary to a list\n",
        "    order_list.append(item)\n",
        "\n",
        "    # 🗓️ Week 8 - Print confirmation after successful addition\n",
        "    print(f\"Added {quantity} x {product_name} to the order.\")\n",
        "# I create the function to add the quantity to the dictionary also call the function price to make sure it sync and valid.\n",
        "def calculate_order_total(order_list):\n",
        "    # 🗓️ Week 8 - Initialize total with 0 before loop\n",
        "    grand_total = 0\n",
        "\n",
        "    print(\"\\nReceipt:\")\n",
        "\n",
        "    # 🗓️ Week 8 - Using a for loop to go through list of dictionaries\n",
        "    for item in order_list:\n",
        "        # 🗓️ Week 3 - Accessing dictionary values\n",
        "        product = item[\"product\"]\n",
        "        quantity = item[\"qty\"]\n",
        "        price = item[\"price\"]\n",
        "\n",
        "        # 🗓️ Week 8 - Basic math operation\n",
        "        subtotal = quantity * price\n",
        "\n",
        "        # 🗓️ Week 8 - Print each line item\n",
        "        print(f\"{product} x{quantity} @ ${price:.2f} = ${subtotal:.2f}\")\n",
        "\n",
        "        # 🗓️ Week 8 - Add subtotal to grand total\n",
        "        grand_total += subtotal\n",
        "\n",
        "    # 🗓️ Week 8 - Final output\n",
        "    print(f\"\\nGrand Total: ${grand_total:.2f}\")\n",
        "# I create the loop fuction to help me calculate the cost for each item also the grand total of all the item was mentioned.\n"
      ],
      "metadata": {
        "id": "0oqBHfvyvj5y"
      },
      "execution_count": 7,
      "outputs": []
    },
    {
      "cell_type": "markdown",
      "source": [
        "**Section 2: **"
      ],
      "metadata": {
        "id": "cgLiVW9fv63p"
      }
    },
    {
      "cell_type": "code",
      "source": [
        "# inventory_code.py - This code has some errors!\n",
        "\n",
        "products = [] # Hint: Consider if a list is the best structure for looking up items by name\n",
        "\n",
        "def add_item(item_name, quantity):\n",
        "    products.append([item_name, quantity])\n",
        "    print(f\"{item_name} added.\")\n",
        "\n",
        "def get_item_quantity(item_name):\n",
        "    for item in products:\n",
        "        if item[0] = item_name: # Potential SyntaxError here\n",
        "            return item[1]\n",
        "    return \"Item not found\"\n",
        "\n",
        "def update_quantity(item_name, new_quantity):\n",
        "    found = False\n",
        "    for item in products:\n",
        "        if item[0] == item_name:\n",
        "            item[1] = new_quantity\n",
        "            found = True\n",
        "    if not found:\n",
        "        print(\"Item not found to update!\")\n",
        "\n",
        "def display_inventory():\n",
        "    print(\"Current Inventory:\")\n",
        "    for item in products:\n",
        "        print(f\"- {item[0]}: {item[1]} units\")\n",
        "\n",
        "# Test calls (some of these will cause errors!)\n",
        "add_item(\"Apples\", 100)\n",
        "add_item(\"Bananas\", 50)\n",
        "update_quantity(\"Apples\", 120)\n",
        "print(get_item_quantity(\"Oranges\"))\n",
        "display_inventory()\n"
      ],
      "metadata": {
        "id": "AlSdRq9zv-ol",
        "outputId": "d27a92bb-c53a-4e62-dc16-c13688608edc",
        "colab": {
          "base_uri": "https://localhost:8080/",
          "height": 124
        }
      },
      "execution_count": 8,
      "outputs": [
        {
          "output_type": "error",
          "ename": "SyntaxError",
          "evalue": "cannot assign to subscript here. Maybe you meant '==' instead of '='? (<ipython-input-8-1123960848>, line 11)",
          "traceback": [
            "\u001b[0;36m  File \u001b[0;32m\"<ipython-input-8-1123960848>\"\u001b[0;36m, line \u001b[0;32m11\u001b[0m\n\u001b[0;31m    if item[0] = item_name: # Potential SyntaxError here\u001b[0m\n\u001b[0m       ^\u001b[0m\n\u001b[0;31mSyntaxError\u001b[0m\u001b[0;31m:\u001b[0m cannot assign to subscript here. Maybe you meant '==' instead of '='?\n"
          ]
        }
      ]
    },
    {
      "cell_type": "code",
      "source": [
        "products = []  # Still a list of [item_name, quantity]\n",
        "\n",
        "def add_item(item_name, quantity):\n",
        "    products.append([item_name, quantity])\n",
        "    print(f\"{item_name} added.\")\n",
        "\n",
        "def get_item_quantity(item_name):\n",
        "    sync_inventory_item(item_name)  # 🔁 Ensure it appears in inventory\n",
        "    for item in products:\n",
        "        if item[0] == item_name:\n",
        "            return item[1]\n",
        "    return 0  # Default fallback (should not reach here)\n",
        "\n",
        "\n",
        "def update_quantity(item_name, new_quantity):\n",
        "    try:\n",
        "        new_quantity = int(new_quantity)\n",
        "    except ValueError:\n",
        "        print(\"Error: Quantity must be a number.\")\n",
        "        return\n",
        "\n",
        "    for item in products:\n",
        "        if item[0] == item_name:\n",
        "            item[1] = new_quantity\n",
        "            print(f\"{item_name} updated to {new_quantity} units.\")\n",
        "            return\n",
        "\n",
        "    # If not found, assume item exists and add it\n",
        "    products.append([item_name, new_quantity])\n",
        "    print(f\"{item_name} was not in stock — added with {new_quantity} units.\")\n",
        "\n",
        "def sync_inventory_item(item_name):\n",
        "    for item in products:\n",
        "        if item[0] == item_name:\n",
        "            return  # Already in products\n",
        "    products.append([item_name, 0])  # Add with 0 quantity\n",
        "\n",
        "def display_inventory():\n",
        "    print(\"Current Inventory:\")\n",
        "    for item in products:\n",
        "        print(f\"- {item[0]}: {item[1]} units\")\n",
        "\n",
        "\n",
        "# Test calls\n",
        "add_item(\"Apples\", 100)\n",
        "add_item(\"Bananas\", 50)\n",
        "update_quantity(\"Apples\", 120)\n",
        "print(get_item_quantity(\"Oranges\"))\n",
        "display_inventory()\n"
      ],
      "metadata": {
        "id": "RFO4mwwax1fh",
        "outputId": "f5dc6c5e-8fba-4a3b-df37-55e3e1db302c",
        "colab": {
          "base_uri": "https://localhost:8080/"
        }
      },
      "execution_count": 18,
      "outputs": [
        {
          "output_type": "stream",
          "name": "stdout",
          "text": [
            "Apples added.\n",
            "Bananas added.\n",
            "Apples updated to 120 units.\n",
            "0\n",
            "Current Inventory:\n",
            "- Apples: 120 units\n",
            "- Bananas: 50 units\n",
            "- Oranges: 0 units\n"
          ]
        }
      ]
    }
  ],
  "metadata": {
    "colab": {
      "name": "Welcome To Colab",
      "provenance": [],
      "include_colab_link": true
    },
    "kernelspec": {
      "display_name": "Python 3",
      "name": "python3"
    }
  },
  "nbformat": 4,
  "nbformat_minor": 0
}